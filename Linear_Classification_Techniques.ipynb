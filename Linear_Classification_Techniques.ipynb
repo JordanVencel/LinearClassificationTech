{
 "cells": [
  {
   "cell_type": "markdown",
   "metadata": {},
   "source": [
    "# Classification By Two Different Methods\r\n",
    "## Method 1 - Backpropagation in a Neural Network\r\n",
    "`Backpropagation` is the essence of neural net training. It is the practice of fine-tuning the weights of a neural net based on the error rate (i.e. `loss`) obtained in the previous epoch (i.e. `iteration`.) Proper tuning of the weights ensures lower error rates, making the model reliable by increasing its generalization.\r\n",
    "\r\n",
    "I will use the training datasets in dataset 1 and 2 to train the neural network, and then use the testing datasets in datasets 1 and 2 respectively to test the accuracy of the neural network I trained. You can find the datasets used for training and testing on my GitHub page [here](https://github.com/JordanVencel/LinearClassificationTech). \r\n",
    "\r\n",
    "I will use the `sigmoid function` in the neurons in the hidden and output layers. The `learning rate` is set to 0.8. The `parameter 𝛽` in the logistic function is set to 1."
   ]
  },
  {
   "cell_type": "markdown",
   "metadata": {},
   "source": [
    "### Step 1: Read In Data"
   ]
  },
  {
   "cell_type": "code",
   "execution_count": 24,
   "metadata": {},
   "outputs": [],
   "source": [
    "# Initial imports \r\n",
    "import pandas as pd \r\n",
    "import numpy as np \r\n",
    "import urllib3\r\n",
    "from bs4 import BeautifulSoup"
   ]
  },
  {
   "cell_type": "code",
   "execution_count": 25,
   "metadata": {},
   "outputs": [],
   "source": [
    "# Convert raw txt data into a usable format for each dataset\r\n",
    "http = urllib3.PoolManager()\r\n",
    "response = http.request('GET', \"https://raw.githubusercontent.com/JordanVencel/LinearClassificationTech/main/dataset1_training.txt\") \r\n",
    "soup = BeautifulSoup(response.data)\r\n",
    "\r\n",
    "separated_str_list = []\r\n",
    "for line in soup:\r\n",
    "    chunks = line.split('\\n')\r\n",
    "\r\n",
    "for chunk in chunks:\r\n",
    "    chunk = chunk.lstrip()\r\n",
    "    chunk = chunk.rstrip()\r\n",
    "    chunk = chunk.replace(\"  \", \" \")\r\n",
    "    chunk = chunk.replace(\"  \", \" \")\r\n",
    "    chunk = chunk.replace(\" \", \",\")\r\n",
    "    separated_str_list.append(chunk)\r\n",
    "\r\n",
    "training_1_csv = np.savetxt(\"training_1_csv.csv\", separated_str_list, delimiter=\" \", fmt='% s')"
   ]
  },
  {
   "cell_type": "code",
   "execution_count": 26,
   "metadata": {},
   "outputs": [],
   "source": [
    "http = urllib3.PoolManager()\r\n",
    "response = http.request('GET', \"https://raw.githubusercontent.com/JordanVencel/LinearClassificationTech/main/dataset1_testing.txt\") \r\n",
    "soup = BeautifulSoup(response.data)\r\n",
    "\r\n",
    "separated_str_list = []\r\n",
    "for line in soup:\r\n",
    "    chunks = line.split('\\n')\r\n",
    "\r\n",
    "for chunk in chunks:\r\n",
    "    chunk = chunk.lstrip()\r\n",
    "    chunk = chunk.rstrip()\r\n",
    "    chunk = chunk.replace(\"  \", \" \")\r\n",
    "    chunk = chunk.replace(\"  \", \" \")\r\n",
    "    chunk = chunk.replace(\" \", \",\")\r\n",
    "    separated_str_list.append(chunk)\r\n",
    "\r\n",
    "testing_1_csv = np.savetxt(\"testing_1_csv.csv\", separated_str_list, delimiter=\" \", fmt='% s')"
   ]
  },
  {
   "cell_type": "code",
   "execution_count": 4,
   "metadata": {},
   "outputs": [],
   "source": [
    "http = urllib3.PoolManager()\r\n",
    "response = http.request('GET', \"https://raw.githubusercontent.com/JordanVencel/LinearClassificationTech/main/dataset2_training.txt\")\r\n",
    "soup = BeautifulSoup(response.data)\r\n",
    "\r\n",
    "separated_str_list = []\r\n",
    "for line in soup:\r\n",
    "    chunks = line.split('\\n')\r\n",
    "\r\n",
    "for chunk in chunks:\r\n",
    "    chunk = chunk.lstrip()\r\n",
    "    chunk = chunk.rstrip()\r\n",
    "    chunk = chunk.replace(\"  \", \" \")\r\n",
    "    chunk = chunk.replace(\"  \", \" \")\r\n",
    "    chunk = chunk.replace(\" \", \",\")\r\n",
    "    separated_str_list.append(chunk)\r\n",
    "\r\n",
    "training_2_csv = np.savetxt(\"training_2_csv.csv\", separated_str_list, delimiter=\" \", fmt='% s')"
   ]
  },
  {
   "cell_type": "code",
   "execution_count": 5,
   "metadata": {},
   "outputs": [],
   "source": [
    "http = urllib3.PoolManager()\r\n",
    "response = http.request('GET', \"https://raw.githubusercontent.com/JordanVencel/LinearClassificationTech/main/dataset2_testing.txt\")\r\n",
    "soup = BeautifulSoup(response.data)\r\n",
    "\r\n",
    "separated_str_list = []\r\n",
    "for line in soup:\r\n",
    "    chunks = line.split('\\n')\r\n",
    "\r\n",
    "for chunk in chunks:\r\n",
    "    chunk = chunk.lstrip()\r\n",
    "    chunk = chunk.rstrip()\r\n",
    "    chunk = chunk.replace(\"  \", \" \")\r\n",
    "    chunk = chunk.replace(\"  \", \" \")\r\n",
    "    chunk = chunk.replace(\" \", \",\")\r\n",
    "    separated_str_list.append(chunk)\r\n",
    "\r\n",
    "testing_2_csv = np.savetxt(\"testing_2_csv.csv\", separated_str_list, delimiter=\" \", fmt='% s')"
   ]
  },
  {
   "cell_type": "code",
   "execution_count": 6,
   "metadata": {},
   "outputs": [
    {
     "name": "stdout",
     "output_type": "stream",
     "text": [
      "        x     y  class_label\n",
      "0    1.53  3.13            0\n",
      "1    0.58  2.83            0\n",
      "2    0.28  2.69            0\n",
      "3    1.14  2.14            0\n",
      "4    1.46  3.39            0\n",
      "..    ...   ...          ...\n",
      "495  2.37  0.93            1\n",
      "496  2.85  0.52            1\n",
      "497  2.35  0.39            1\n",
      "498  2.96  1.68            1\n",
      "499  2.56  0.16            1\n",
      "\n",
      "[500 rows x 3 columns]\n",
      "        x     y  class_label\n",
      "0    2.16  3.91            0\n",
      "1   -0.22  1.73            0\n",
      "2    2.00  3.92            0\n",
      "3    0.53  2.97            0\n",
      "4    1.38  3.57            0\n",
      "..    ...   ...          ...\n",
      "175  2.72  1.00            1\n",
      "176  3.55  1.18            1\n",
      "177  2.75  0.12            1\n",
      "178  3.67  2.02            1\n",
      "179  3.29  1.07            1\n",
      "\n",
      "[180 rows x 3 columns]\n",
      "            x         y  class_label\n",
      "0    0.130359  0.026001            1\n",
      "1   -0.274629  0.985175            0\n",
      "2   -0.004553  0.074094            1\n",
      "3    0.119707  0.121914            1\n",
      "4    0.041210  0.144460            1\n",
      "..        ...       ...          ...\n",
      "995  0.633695 -0.480136            1\n",
      "996  1.342685 -0.377875            1\n",
      "997  1.354039 -0.428167            1\n",
      "998  0.688920  0.684737            0\n",
      "999 -0.027463  0.211981            1\n",
      "\n",
      "[1000 rows x 3 columns]\n",
      "            x         y  class_label\n",
      "0   -0.031390  1.015639            0\n",
      "1    0.309430 -0.208743            1\n",
      "2    0.439711  0.859860            0\n",
      "3    1.000203 -0.537750            1\n",
      "4    0.840570  0.600436            0\n",
      "..        ...       ...          ...\n",
      "195  0.789078  0.472635            0\n",
      "196 -1.021919  0.006070            0\n",
      "197 -0.439788  0.901414            0\n",
      "198  0.299673 -0.214482            1\n",
      "199  0.122868  0.302320            1\n",
      "\n",
      "[200 rows x 3 columns]\n"
     ]
    }
   ],
   "source": [
    "training1 = pd.read_csv(\"training_1_csv.csv\", names=['x','y','class_label'], sep=\",\")\r\n",
    "print(training1)\r\n",
    "\r\n",
    "testing1 = pd.read_csv(\"testing_1_csv.csv\", names=['x','y','class_label'], sep=\",\")\r\n",
    "print(testing1)\r\n",
    "\r\n",
    "training2 = pd.read_csv(\"training_2_csv.csv\", names=['x','y','class_label'], sep=\",\")\r\n",
    "print(training2)\r\n",
    "\r\n",
    "testing2 = pd.read_csv(\"testing_2_csv.csv\", names=['x','y','class_label'], sep=\",\")\r\n",
    "print(testing2)"
   ]
  },
  {
   "cell_type": "code",
   "execution_count": 7,
   "metadata": {},
   "outputs": [
    {
     "data": {
      "text/plain": [
       "<AxesSubplot:xlabel='x', ylabel='y'>"
      ]
     },
     "execution_count": 7,
     "metadata": {},
     "output_type": "execute_result"
    },
    {
     "data": {
      "image/png": "[encoded data removed]",
      "text/plain": [
       "<Figure size 432x288 with 1 Axes>"
      ]
     },
     "metadata": {
      "needs_background": "light"
     },
     "output_type": "display_data"
    }
   ],
   "source": [
    "import seaborn as sb\r\n",
    "sb.scatterplot(data=training1, x='x',y='y')"
   ]
  },
  {
   "cell_type": "code",
   "execution_count": 8,
   "metadata": {},
   "outputs": [
    {
     "data": {
      "text/plain": [
       "<AxesSubplot:xlabel='x', ylabel='y'>"
      ]
     },
     "execution_count": 8,
     "metadata": {},
     "output_type": "execute_result"
    },
    {
     "data": {
      "image/png": "[encoded data removed]",
      "text/plain": [
       "<Figure size 432x288 with 1 Axes>"
      ]
     },
     "metadata": {
      "needs_background": "light"
     },
     "output_type": "display_data"
    }
   ],
   "source": [
    "sb.scatterplot(data=training2, x='x',y='y')"
   ]
  },
  {
   "cell_type": "markdown",
   "metadata": {},
   "source": [
    "### Step 2: Initialize Network"
   ]
  },
  {
   "cell_type": "code",
   "execution_count": 9,
   "metadata": {},
   "outputs": [],
   "source": [
    "from random import seed\r\n",
    "from random import random\r\n",
    "\r\n",
    "def initialize_network(n_inputs, n_hidden, n_outputs):\r\n",
    "    network = list()\r\n",
    "    hidden_layer = [{'weights':[random() for i in range(n_inputs + 1)]} for i in range(n_hidden)]\r\n",
    "    network.append(hidden_layer)\r\n",
    "    output_layer = [{'weights':[random() for i in range(n_hidden + 1)]} for i in range(n_outputs)]\r\n",
    "    network.append(output_layer)\r\n",
    "    return network"
   ]
  },
  {
   "cell_type": "markdown",
   "metadata": {},
   "source": [
    "### Step 3: Forward Propagate\r\n",
    "    Step 3A: Neuron Activation"
   ]
  },
  {
   "cell_type": "code",
   "execution_count": 10,
   "metadata": {},
   "outputs": [],
   "source": [
    "from math import exp\r\n",
    "# Calculate neuron activation for an input\r\n",
    "def activate(weights, inputs):\r\n",
    "\tactivation = weights[-1]\r\n",
    "\tfor i in range(len(weights)-1):\r\n",
    "\t\tactivation += weights[i] * inputs[i]\r\n",
    "\treturn activation"
   ]
  },
  {
   "cell_type": "markdown",
   "metadata": {},
   "source": [
    "    Step 3B: Neuron Transfer (A.K.A. Sigmoid Function)"
   ]
  },
  {
   "cell_type": "code",
   "execution_count": 11,
   "metadata": {},
   "outputs": [],
   "source": [
    "# Transfer neuron activation (sigmoid function)\r\n",
    "def transfer(activation):\r\n",
    "\treturn 1.0 / (1.0 + exp(-activation))"
   ]
  },
  {
   "cell_type": "markdown",
   "metadata": {},
   "source": [
    "    Step 3C: Forward Propagation"
   ]
  },
  {
   "cell_type": "code",
   "execution_count": 12,
   "metadata": {},
   "outputs": [],
   "source": [
    "# Forward propagate input to a network output\r\n",
    "def forward_propagate(network, row):\r\n",
    "\tinputs = row\r\n",
    "\tfor layer in network:\r\n",
    "\t\tnew_inputs = []\r\n",
    "\t\tfor neuron in layer:\r\n",
    "\t\t\tactivation = activate(neuron['weights'], inputs)\r\n",
    "\t\t\tneuron['output'] = transfer(activation)\r\n",
    "\t\t\tnew_inputs.append(neuron['output'])\r\n",
    "\t\tinputs = new_inputs\r\n",
    "\treturn inputs"
   ]
  },
  {
   "cell_type": "markdown",
   "metadata": {},
   "source": [
    "### Step 4: Backpropagation\r\n",
    "    Step 4A: Transfer Derivative"
   ]
  },
  {
   "cell_type": "code",
   "execution_count": 13,
   "metadata": {},
   "outputs": [],
   "source": [
    "# Calculate the derivative of an neuron output\r\n",
    "def transfer_derivative(output):\r\n",
    "\treturn output * (1.0 - output)"
   ]
  },
  {
   "cell_type": "markdown",
   "metadata": {},
   "source": [
    "    Step 4B: Back Propagate Error"
   ]
  },
  {
   "cell_type": "code",
   "execution_count": 14,
   "metadata": {},
   "outputs": [],
   "source": [
    "# Backpropagate error and store in neurons\r\n",
    "def backward_propagate_error(network, expected):\r\n",
    "\tfor i in reversed(range(len(network))):\r\n",
    "\t\tlayer = network[i]\r\n",
    "\t\terrors = list()\r\n",
    "\t\tif i != len(network)-1:\r\n",
    "\t\t\tfor j in range(len(layer)):\r\n",
    "\t\t\t\terror = 0.0\r\n",
    "\t\t\t\tfor neuron in network[i + 1]:\r\n",
    "\t\t\t\t\terror += (neuron['weights'][j] * neuron['delta'])\r\n",
    "\t\t\t\terrors.append(error)\r\n",
    "\t\telse:\r\n",
    "\t\t\tfor j in range(len(layer)):\r\n",
    "\t\t\t\tneuron = layer[j]\r\n",
    "\t\t\t\terrors.append(neuron['output'] - expected[j])\r\n",
    "\t\tfor j in range(len(layer)):\r\n",
    "\t\t\tneuron = layer[j]\r\n",
    "\t\t\tneuron['delta'] = errors[j] * transfer_derivative(neuron['output'])"
   ]
  },
  {
   "cell_type": "markdown",
   "metadata": {},
   "source": [
    "### Step 5: Train Network (Dataset 1)"
   ]
  },
  {
   "cell_type": "code",
   "execution_count": 15,
   "metadata": {},
   "outputs": [],
   "source": [
    "# Update network weights with error\r\n",
    "def update_weights(network, row, l_rate):\r\n",
    "\tfor i in range(len(network)):\r\n",
    "\t\tinputs = row[:-1]\r\n",
    "\t\tif i != 0:\r\n",
    "\t\t\tinputs = [neuron['output'] for neuron in network[i - 1]]\r\n",
    "\t\tfor neuron in network[i]:\r\n",
    "\t\t\tfor j in range(len(inputs)):\r\n",
    "\t\t\t\tneuron['weights'][j] -= l_rate * neuron['delta'] * inputs[j]\r\n",
    "\t\t\tneuron['weights'][-1] -= l_rate * neuron['delta']\r\n",
    "\r\n",
    "# Train a network for a fixed number of epochs\r\n",
    "def train_network(network, train, l_rate, n_epoch, n_outputs):\r\n",
    "\tfor epoch in range(n_epoch):\r\n",
    "\t\tsum_error = 0\r\n",
    "\t\tfor row in train:\r\n",
    "\t\t\toutputs = forward_propagate(network, row)\r\n",
    "\t\t\texpected = [0 for i in range(n_outputs)]\r\n",
    "\t\t\texpected[int(row[-1])] = 1\r\n",
    "\t\t\tsum_error += sum([(expected[i]-outputs[i])**2 for i in range(len(expected))])\r\n",
    "\t\t\tbackward_propagate_error(network, expected)\r\n",
    "\t\t\tupdate_weights(network, row, l_rate)\r\n",
    "\t\tprint('>epoch=%d, lrate=%.3f, error=%.3f' % (epoch, l_rate, sum_error))"
   ]
  },
  {
   "cell_type": "code",
   "execution_count": 16,
   "metadata": {},
   "outputs": [
    {
     "name": "stdout",
     "output_type": "stream",
     "text": [
      ">epoch=0, lrate=0.100, error=114.057\n",
      ">epoch=1, lrate=0.100, error=95.446\n",
      ">epoch=2, lrate=0.100, error=58.528\n",
      ">epoch=3, lrate=0.100, error=32.301\n",
      ">epoch=4, lrate=0.100, error=19.726\n",
      ">epoch=5, lrate=0.100, error=13.351\n",
      ">epoch=6, lrate=0.100, error=9.777\n",
      ">epoch=7, lrate=0.100, error=7.605\n",
      ">epoch=8, lrate=0.100, error=6.185\n",
      ">epoch=9, lrate=0.100, error=5.197\n",
      ">epoch=10, lrate=0.100, error=4.476\n",
      ">epoch=11, lrate=0.100, error=3.929\n",
      ">epoch=12, lrate=0.100, error=3.501\n",
      ">epoch=13, lrate=0.100, error=3.158\n",
      ">epoch=14, lrate=0.100, error=2.876\n",
      ">epoch=15, lrate=0.100, error=2.642\n",
      ">epoch=16, lrate=0.100, error=2.443\n",
      ">epoch=17, lrate=0.100, error=2.274\n",
      ">epoch=18, lrate=0.100, error=2.127\n",
      ">epoch=19, lrate=0.100, error=1.998\n",
      "[{'weights': [-0.6548866751333163, 0.7260835803552326, 0.5351810511389271], 'output': 0.2640484075352846, 'delta': 0.00016303449050961654}, {'weights': [1.8570094142378228, -1.8812001078912948, 0.2230171879610871], 'output': 0.9907691499207972, 'delta': -5.126453273015957e-05}, {'weights': [0.2940953886260734, 0.87832167195159, 0.021417791045680413], 'output': 0.7139913319873191, 'delta': 2.0121720232264605e-05}, {'weights': [-2.4421616041671155, 2.282884653825583, 0.19693822493391733], 'output': 0.003369167142916208, 'delta': 2.5185938612604442e-05}]\n",
      "[{'weights': [0.8656462402601288, -2.838855179635673, -0.1719084001512964, 3.825485132562214, -0.784094727087098], 'output': 0.02995047634492998, 'delta': 0.0008701645265450438}, {'weights': [-0.08121504277329641, 2.972349662199726, -0.23510446896180753, -3.9551076173579776, 0.6348092212318698], 'output': 0.9669721561836618, 'delta': -0.001054810424634331}]\n"
     ]
    }
   ],
   "source": [
    "seed(1)\r\n",
    "dataset = training1.values.tolist()\r\n",
    "n_inputs = len(dataset[0]) - 1\r\n",
    "n_outputs = len(set([row[-1] for row in dataset]))\r\n",
    "network = initialize_network(n_inputs, 4, n_outputs)\r\n",
    "train_network(network, dataset, 0.1, 20, n_outputs)\r\n",
    "for layer in network:\r\n",
    "\tprint(layer)"
   ]
  },
  {
   "cell_type": "markdown",
   "metadata": {},
   "source": [
    "### Step 6: Make Predictions (Dataset 1)"
   ]
  },
  {
   "cell_type": "code",
   "execution_count": 17,
   "metadata": {},
   "outputs": [],
   "source": [
    "# Define prediction function\r\n",
    "def predict(network, row):\r\n",
    "    outputs = forward_propagate(network, row)\r\n",
    "    return outputs.index(max(outputs))"
   ]
  },
  {
   "cell_type": "code",
   "execution_count": 18,
   "metadata": {},
   "outputs": [
    {
     "name": "stdout",
     "output_type": "stream",
     "text": [
      "Expected=0, Got=0\n",
      "Expected=0, Got=0\n",
      "Expected=0, Got=0\n",
      "Expected=0, Got=0\n",
      "Expected=0, Got=0\n",
      "Expected=0, Got=0\n",
      "Expected=0, Got=0\n",
      "Expected=0, Got=0\n",
      "Expected=0, Got=0\n",
      "Expected=0, Got=0\n",
      "Expected=0, Got=0\n",
      "Expected=0, Got=0\n",
      "Expected=0, Got=0\n",
      "Expected=0, Got=0\n",
      "Expected=0, Got=0\n",
      "Expected=0, Got=0\n",
      "Expected=0, Got=0\n",
      "Expected=0, Got=0\n",
      "Expected=0, Got=0\n",
      "Expected=0, Got=0\n",
      "Expected=0, Got=0\n",
      "Expected=0, Got=0\n",
      "Expected=0, Got=0\n",
      "Expected=0, Got=0\n",
      "Expected=0, Got=0\n",
      "Expected=0, Got=0\n",
      "Expected=0, Got=0\n",
      "Expected=0, Got=0\n",
      "Expected=0, Got=0\n",
      "Expected=0, Got=0\n",
      "Expected=0, Got=0\n",
      "Expected=0, Got=0\n",
      "Expected=0, Got=0\n",
      "Expected=0, Got=0\n",
      "Expected=0, Got=0\n",
      "Expected=0, Got=0\n",
      "Expected=0, Got=0\n",
      "Expected=0, Got=0\n",
      "Expected=0, Got=0\n",
      "Expected=0, Got=0\n",
      "Expected=0, Got=0\n",
      "Expected=0, Got=0\n",
      "Expected=0, Got=0\n",
      "Expected=0, Got=0\n",
      "Expected=0, Got=0\n",
      "Expected=0, Got=0\n",
      "Expected=0, Got=0\n",
      "Expected=0, Got=0\n",
      "Expected=0, Got=0\n",
      "Expected=0, Got=0\n",
      "Expected=0, Got=0\n",
      "Expected=0, Got=0\n",
      "Expected=0, Got=0\n",
      "Expected=0, Got=0\n",
      "Expected=0, Got=0\n",
      "Expected=0, Got=0\n",
      "Expected=0, Got=0\n",
      "Expected=0, Got=0\n",
      "Expected=0, Got=0\n",
      "Expected=0, Got=0\n",
      "Expected=0, Got=0\n",
      "Expected=0, Got=0\n",
      "Expected=0, Got=0\n",
      "Expected=0, Got=0\n",
      "Expected=0, Got=0\n",
      "Expected=0, Got=0\n",
      "Expected=0, Got=0\n",
      "Expected=0, Got=0\n",
      "Expected=0, Got=0\n",
      "Expected=0, Got=0\n",
      "Expected=0, Got=0\n",
      "Expected=0, Got=0\n",
      "Expected=0, Got=0\n",
      "Expected=0, Got=0\n",
      "Expected=0, Got=0\n",
      "Expected=0, Got=0\n",
      "Expected=0, Got=0\n",
      "Expected=0, Got=0\n",
      "Expected=0, Got=0\n",
      "Expected=0, Got=0\n",
      "Expected=0, Got=0\n",
      "Expected=0, Got=0\n",
      "Expected=0, Got=0\n",
      "Expected=0, Got=0\n",
      "Expected=0, Got=0\n",
      "Expected=0, Got=0\n",
      "Expected=0, Got=0\n",
      "Expected=0, Got=0\n",
      "Expected=0, Got=0\n",
      "Expected=0, Got=0\n",
      "Expected=0, Got=0\n",
      "Expected=0, Got=0\n",
      "Expected=0, Got=0\n",
      "Expected=0, Got=0\n",
      "Expected=0, Got=0\n",
      "Expected=0, Got=0\n",
      "Expected=0, Got=0\n",
      "Expected=0, Got=0\n",
      "Expected=0, Got=0\n",
      "Expected=0, Got=0\n",
      "Expected=1, Got=1\n",
      "Expected=1, Got=1\n",
      "Expected=1, Got=1\n",
      "Expected=1, Got=1\n",
      "Expected=1, Got=1\n",
      "Expected=1, Got=1\n",
      "Expected=1, Got=1\n",
      "Expected=1, Got=1\n",
      "Expected=1, Got=1\n",
      "Expected=1, Got=1\n",
      "Expected=1, Got=1\n",
      "Expected=1, Got=1\n",
      "Expected=1, Got=1\n",
      "Expected=1, Got=1\n",
      "Expected=1, Got=1\n",
      "Expected=1, Got=1\n",
      "Expected=1, Got=1\n",
      "Expected=1, Got=1\n",
      "Expected=1, Got=1\n",
      "Expected=1, Got=1\n",
      "Expected=1, Got=1\n",
      "Expected=1, Got=1\n",
      "Expected=1, Got=1\n",
      "Expected=1, Got=1\n",
      "Expected=1, Got=1\n",
      "Expected=1, Got=1\n",
      "Expected=1, Got=1\n",
      "Expected=1, Got=1\n",
      "Expected=1, Got=1\n",
      "Expected=1, Got=1\n",
      "Expected=1, Got=1\n",
      "Expected=1, Got=1\n",
      "Expected=1, Got=1\n",
      "Expected=1, Got=1\n",
      "Expected=1, Got=1\n",
      "Expected=1, Got=1\n",
      "Expected=1, Got=1\n",
      "Expected=1, Got=1\n",
      "Expected=1, Got=1\n",
      "Expected=1, Got=1\n",
      "Expected=1, Got=1\n",
      "Expected=1, Got=1\n",
      "Expected=1, Got=1\n",
      "Expected=1, Got=1\n",
      "Expected=1, Got=1\n",
      "Expected=1, Got=1\n",
      "Expected=1, Got=1\n",
      "Expected=1, Got=1\n",
      "Expected=1, Got=1\n",
      "Expected=1, Got=1\n",
      "Expected=1, Got=1\n",
      "Expected=1, Got=1\n",
      "Expected=1, Got=1\n",
      "Expected=1, Got=1\n",
      "Expected=1, Got=1\n",
      "Expected=1, Got=1\n",
      "Expected=1, Got=1\n",
      "Expected=1, Got=1\n",
      "Expected=1, Got=1\n",
      "Expected=1, Got=1\n",
      "Expected=1, Got=1\n",
      "Expected=1, Got=1\n",
      "Expected=1, Got=1\n",
      "Expected=1, Got=1\n",
      "Expected=1, Got=1\n",
      "Expected=1, Got=1\n",
      "Expected=1, Got=1\n",
      "Expected=1, Got=1\n",
      "Expected=1, Got=1\n",
      "Expected=1, Got=1\n",
      "Expected=1, Got=1\n",
      "Expected=1, Got=1\n",
      "Expected=1, Got=1\n",
      "Expected=1, Got=1\n",
      "Expected=1, Got=1\n",
      "Expected=1, Got=1\n",
      "Expected=1, Got=1\n",
      "Expected=1, Got=1\n",
      "Expected=1, Got=1\n",
      "Expected=1, Got=1\n"
     ]
    }
   ],
   "source": [
    "# Make prediction \r\n",
    "dataset = testing1.values.tolist()\r\n",
    "for row in dataset:\r\n",
    "    prediction = predict(network, row)\r\n",
    "    print('Expected=%d, Got=%d' % (row[-1], prediction))"
   ]
  },
  {
   "cell_type": "markdown",
   "metadata": {},
   "source": [
    "As you can see in the prediction above, the network predicts the class label of testing dataset 1 with 100% accuracy. \r\n",
    "We will now train the network using training dataset 2 and make predictions on testing dataset 2. "
   ]
  },
  {
   "cell_type": "markdown",
   "metadata": {},
   "source": [
    "### Step 5: Train Network (Dataset 2)"
   ]
  },
  {
   "cell_type": "code",
   "execution_count": 19,
   "metadata": {},
   "outputs": [
    {
     "name": "stdout",
     "output_type": "stream",
     "text": [
      ">epoch=0, lrate=0.800, error=217.360\n",
      ">epoch=1, lrate=0.800, error=168.319\n",
      ">epoch=2, lrate=0.800, error=166.398\n",
      ">epoch=3, lrate=0.800, error=164.354\n",
      ">epoch=4, lrate=0.800, error=162.829\n",
      ">epoch=5, lrate=0.800, error=161.766\n",
      ">epoch=6, lrate=0.800, error=160.967\n",
      ">epoch=7, lrate=0.800, error=160.316\n",
      ">epoch=8, lrate=0.800, error=159.759\n",
      ">epoch=9, lrate=0.800, error=159.264\n",
      ">epoch=10, lrate=0.800, error=158.799\n",
      ">epoch=11, lrate=0.800, error=158.218\n",
      ">epoch=12, lrate=0.800, error=154.407\n",
      ">epoch=13, lrate=0.800, error=100.983\n",
      ">epoch=14, lrate=0.800, error=35.335\n",
      ">epoch=15, lrate=0.800, error=16.511\n",
      ">epoch=16, lrate=0.800, error=10.039\n",
      ">epoch=17, lrate=0.800, error=7.043\n",
      ">epoch=18, lrate=0.800, error=5.370\n",
      ">epoch=19, lrate=0.800, error=4.313\n",
      "[{'weights': [4.257249167961575, 3.496906435604133, -2.7784007020606865], 'output': 0.10402696139883062, 'delta': 0.0009319215092719341}, {'weights': [5.96943741724793, -5.31678008258557, -7.485373384291229], 'output': 0.00015431305172479724, 'delta': -5.36459700822783e-06}, {'weights': [6.983682199850005, 3.9409159615918408, -4.280034953909457], 'output': 0.02568275931765333, 'delta': 0.0006114085133153663}, {'weights': [-6.9599533024790325, 5.167341015205826, -4.656107136430339], 'output': 0.03328834866099889, 'delta': 0.0010698756458772988}]\n",
      "[{'weights': [2.369771071628929, -7.309045570409932, 4.909062055354787, 6.997028047879349, -3.5535712393816303], 'output': 0.0498658213420187, 'delta': 0.00236260377987789}, {'weights': [-1.8368692102401223, 7.308273178588181, -5.359807390276721, -6.979839408946499, 3.5018635991677978], 'output': 0.9497870844594055, 'delta': -0.0023947332109261962}]\n"
     ]
    }
   ],
   "source": [
    "seed(1)\r\n",
    "dataset = training2.values.tolist()\r\n",
    "n_inputs = len(dataset[0]) - 1\r\n",
    "n_outputs = len(set([row[-1] for row in dataset]))\r\n",
    "network = initialize_network(n_inputs, 4, n_outputs)\r\n",
    "train_network(network, dataset, 0.8, 20, n_outputs)\r\n",
    "for layer in network:\r\n",
    "\tprint(layer)"
   ]
  },
  {
   "cell_type": "markdown",
   "metadata": {},
   "source": [
    "### Step 6: Make Predictions (Dataset 2)"
   ]
  },
  {
   "cell_type": "code",
   "execution_count": 20,
   "metadata": {},
   "outputs": [
    {
     "name": "stdout",
     "output_type": "stream",
     "text": [
      "Expected=0, Got=0\n",
      "Expected=1, Got=1\n",
      "Expected=0, Got=0\n",
      "Expected=1, Got=1\n",
      "Expected=0, Got=0\n",
      "Expected=1, Got=1\n",
      "Expected=1, Got=1\n",
      "Expected=0, Got=0\n",
      "Expected=1, Got=1\n",
      "Expected=1, Got=1\n",
      "Expected=0, Got=0\n",
      "Expected=1, Got=1\n",
      "Expected=1, Got=1\n",
      "Expected=1, Got=1\n",
      "Expected=1, Got=1\n",
      "Expected=0, Got=0\n",
      "Expected=0, Got=0\n",
      "Expected=1, Got=1\n",
      "Expected=1, Got=1\n",
      "Expected=0, Got=0\n",
      "Expected=1, Got=1\n",
      "Expected=0, Got=0\n",
      "Expected=1, Got=1\n",
      "Expected=1, Got=1\n",
      "Expected=1, Got=1\n",
      "Expected=0, Got=0\n",
      "Expected=1, Got=1\n",
      "Expected=0, Got=0\n",
      "Expected=1, Got=1\n",
      "Expected=0, Got=0\n",
      "Expected=0, Got=0\n",
      "Expected=0, Got=0\n",
      "Expected=1, Got=1\n",
      "Expected=1, Got=1\n",
      "Expected=0, Got=0\n",
      "Expected=1, Got=1\n",
      "Expected=1, Got=1\n",
      "Expected=1, Got=1\n",
      "Expected=0, Got=0\n",
      "Expected=1, Got=1\n",
      "Expected=0, Got=0\n",
      "Expected=1, Got=1\n",
      "Expected=1, Got=1\n",
      "Expected=0, Got=0\n",
      "Expected=0, Got=0\n",
      "Expected=1, Got=1\n",
      "Expected=0, Got=0\n",
      "Expected=1, Got=1\n",
      "Expected=1, Got=1\n",
      "Expected=0, Got=0\n",
      "Expected=1, Got=1\n",
      "Expected=1, Got=1\n",
      "Expected=0, Got=0\n",
      "Expected=1, Got=1\n",
      "Expected=1, Got=1\n",
      "Expected=1, Got=1\n",
      "Expected=0, Got=0\n",
      "Expected=1, Got=1\n",
      "Expected=0, Got=0\n",
      "Expected=0, Got=0\n",
      "Expected=0, Got=0\n",
      "Expected=1, Got=1\n",
      "Expected=1, Got=1\n",
      "Expected=1, Got=1\n",
      "Expected=0, Got=0\n",
      "Expected=1, Got=1\n",
      "Expected=1, Got=1\n",
      "Expected=0, Got=0\n",
      "Expected=0, Got=0\n",
      "Expected=0, Got=0\n",
      "Expected=0, Got=0\n",
      "Expected=0, Got=0\n",
      "Expected=1, Got=1\n",
      "Expected=0, Got=0\n",
      "Expected=1, Got=1\n",
      "Expected=0, Got=0\n",
      "Expected=1, Got=1\n",
      "Expected=1, Got=1\n",
      "Expected=1, Got=1\n",
      "Expected=0, Got=0\n",
      "Expected=0, Got=0\n",
      "Expected=0, Got=0\n",
      "Expected=1, Got=1\n",
      "Expected=1, Got=1\n",
      "Expected=0, Got=0\n",
      "Expected=0, Got=0\n",
      "Expected=0, Got=0\n",
      "Expected=1, Got=1\n",
      "Expected=0, Got=0\n",
      "Expected=1, Got=1\n",
      "Expected=0, Got=0\n",
      "Expected=0, Got=0\n",
      "Expected=1, Got=1\n",
      "Expected=0, Got=0\n",
      "Expected=1, Got=1\n",
      "Expected=0, Got=0\n",
      "Expected=0, Got=0\n",
      "Expected=1, Got=1\n",
      "Expected=0, Got=0\n",
      "Expected=0, Got=0\n",
      "Expected=0, Got=0\n",
      "Expected=1, Got=1\n",
      "Expected=0, Got=0\n",
      "Expected=0, Got=0\n",
      "Expected=0, Got=0\n",
      "Expected=1, Got=1\n",
      "Expected=1, Got=1\n",
      "Expected=1, Got=1\n",
      "Expected=1, Got=1\n",
      "Expected=1, Got=1\n",
      "Expected=0, Got=0\n",
      "Expected=0, Got=0\n",
      "Expected=0, Got=0\n",
      "Expected=1, Got=1\n",
      "Expected=1, Got=1\n",
      "Expected=1, Got=1\n",
      "Expected=1, Got=1\n",
      "Expected=1, Got=1\n",
      "Expected=1, Got=1\n",
      "Expected=1, Got=1\n",
      "Expected=0, Got=0\n",
      "Expected=0, Got=0\n",
      "Expected=0, Got=0\n",
      "Expected=0, Got=0\n",
      "Expected=0, Got=0\n",
      "Expected=0, Got=0\n",
      "Expected=1, Got=1\n",
      "Expected=0, Got=0\n",
      "Expected=1, Got=1\n",
      "Expected=0, Got=0\n",
      "Expected=1, Got=1\n",
      "Expected=0, Got=0\n",
      "Expected=0, Got=0\n",
      "Expected=0, Got=0\n",
      "Expected=0, Got=0\n",
      "Expected=1, Got=1\n",
      "Expected=0, Got=0\n",
      "Expected=0, Got=0\n",
      "Expected=1, Got=1\n",
      "Expected=0, Got=0\n",
      "Expected=1, Got=1\n",
      "Expected=1, Got=1\n",
      "Expected=0, Got=0\n",
      "Expected=1, Got=1\n",
      "Expected=1, Got=1\n",
      "Expected=1, Got=1\n",
      "Expected=0, Got=0\n",
      "Expected=0, Got=0\n",
      "Expected=1, Got=1\n",
      "Expected=0, Got=0\n",
      "Expected=1, Got=1\n",
      "Expected=0, Got=0\n",
      "Expected=0, Got=0\n",
      "Expected=0, Got=0\n",
      "Expected=0, Got=0\n",
      "Expected=1, Got=1\n",
      "Expected=1, Got=1\n",
      "Expected=0, Got=0\n",
      "Expected=0, Got=0\n",
      "Expected=1, Got=1\n",
      "Expected=0, Got=0\n",
      "Expected=1, Got=1\n",
      "Expected=0, Got=0\n",
      "Expected=1, Got=1\n",
      "Expected=0, Got=0\n",
      "Expected=1, Got=1\n",
      "Expected=0, Got=0\n",
      "Expected=1, Got=1\n",
      "Expected=1, Got=1\n",
      "Expected=1, Got=1\n",
      "Expected=1, Got=1\n",
      "Expected=1, Got=1\n",
      "Expected=0, Got=0\n",
      "Expected=0, Got=0\n",
      "Expected=0, Got=0\n",
      "Expected=0, Got=0\n",
      "Expected=0, Got=0\n",
      "Expected=0, Got=0\n",
      "Expected=1, Got=1\n",
      "Expected=1, Got=1\n",
      "Expected=0, Got=0\n",
      "Expected=1, Got=1\n",
      "Expected=1, Got=1\n",
      "Expected=1, Got=1\n",
      "Expected=1, Got=1\n",
      "Expected=0, Got=0\n",
      "Expected=0, Got=0\n",
      "Expected=0, Got=0\n",
      "Expected=1, Got=1\n",
      "Expected=1, Got=1\n",
      "Expected=0, Got=0\n",
      "Expected=0, Got=0\n",
      "Expected=1, Got=1\n",
      "Expected=1, Got=1\n",
      "Expected=0, Got=0\n",
      "Expected=0, Got=0\n",
      "Expected=0, Got=0\n",
      "Expected=0, Got=0\n",
      "Expected=1, Got=1\n",
      "Expected=1, Got=1\n"
     ]
    }
   ],
   "source": [
    "dataset = testing2.values.tolist()\r\n",
    "for row in dataset:\r\n",
    "    prediction = predict(network, row)\r\n",
    "    print('Expected=%d, Got=%d' % (row[-1], prediction))"
   ]
  },
  {
   "cell_type": "markdown",
   "metadata": {},
   "source": [
    "## Method 2 - Support Vector Machines (SVM)\r\n",
    "`Support vector machines (SVMs)` are a set of supervised learning methods used for classification, regression and outliers detection.\r\n",
    "\r\n",
    "The `advantages` of support vector machines are:\r\n",
    "- They are `effective` in high dimensional spaces.\r\n",
    "- They are still effective in cases where number of dimensions is greater than the number of samples.\r\n",
    "- They use a subset of training points in the decision function (called support vectors), so it is also `memory efficient`.\r\n",
    "- They are `versatile`: different Kernel functions can be specified for the decision function. Common kernels are provided, but it is also possible to specify custom kernels.\r\n",
    "\r\n",
    "The `disadvantages` of support vector machines include:\r\n",
    "- If the number of features is much greater than the number of samples, avoid `over-fitting` in choosing Kernel functions and regularization term is crucial.\r\n",
    "- SVMs do not directly provide probability estimates, these are calculated using an `expensive` five-fold cross-validation (see Scores and probabilities, below)."
   ]
  },
  {
   "cell_type": "code",
   "execution_count": 21,
   "metadata": {},
   "outputs": [],
   "source": [
    "from sklearn import svm"
   ]
  },
  {
   "cell_type": "markdown",
   "metadata": {},
   "source": [
    "### Fit Sklearn's SVM package to Dataset 1 and Make Prediction"
   ]
  },
  {
   "cell_type": "code",
   "execution_count": 22,
   "metadata": {},
   "outputs": [
    {
     "name": "stdout",
     "output_type": "stream",
     "text": [
      "The accuracy of SVM on Dataset 1 is: 100.0%\n"
     ]
    },
    {
     "name": "stderr",
     "output_type": "stream",
     "text": [
      "C:\\Users\\Jordan\\AppData\\Local\\Programs\\Python\\Python39\\lib\\site-packages\\sklearn\\utils\\validation.py:1111: DataConversionWarning: A column-vector y was passed when a 1d array was expected. Please change the shape of y to (n_samples, ), for example using ravel().\n",
      "  y = column_or_1d(y, warn=True)\n"
     ]
    }
   ],
   "source": [
    "X = training1[['x','y']].values.tolist()\r\n",
    "y = training1[['class_label']].values.tolist()\r\n",
    "\r\n",
    "clf = svm.SVC()\r\n",
    "clf.fit(X, y)\r\n",
    "\r\n",
    "test = testing1[['x','y']].values.tolist()\r\n",
    "predictions = clf.predict(test)\r\n",
    "true_values = testing1[['class_label']].values.tolist()\r\n",
    "\r\n",
    "correct_count = 0\r\n",
    "for i in range(len(predictions)):\r\n",
    "    if predictions[i] == true_values[i][0]:\r\n",
    "        correct_count += 1\r\n",
    "\r\n",
    "accuracy =  ( correct_count / len(predictions) * 100 )\r\n",
    "print(\"The accuracy of SVM on Dataset 1 is: \" + str(accuracy) + \"%\")"
   ]
  },
  {
   "cell_type": "markdown",
   "metadata": {},
   "source": [
    "### Fit Sklearn's SVM package to Dataset 2 and Make Prediction"
   ]
  },
  {
   "cell_type": "code",
   "execution_count": 23,
   "metadata": {},
   "outputs": [
    {
     "name": "stdout",
     "output_type": "stream",
     "text": [
      "The accuracy of SVM on Dataset 2 is: 100.0%\n"
     ]
    },
    {
     "name": "stderr",
     "output_type": "stream",
     "text": [
      "C:\\Users\\Jordan\\AppData\\Local\\Programs\\Python\\Python39\\lib\\site-packages\\sklearn\\utils\\validation.py:1111: DataConversionWarning: A column-vector y was passed when a 1d array was expected. Please change the shape of y to (n_samples, ), for example using ravel().\n",
      "  y = column_or_1d(y, warn=True)\n"
     ]
    }
   ],
   "source": [
    "X = training2[['x','y']].values.tolist()\r\n",
    "y = training2[['class_label']].values.tolist()\r\n",
    "\r\n",
    "clf = svm.SVC()\r\n",
    "clf.fit(X, y)\r\n",
    "\r\n",
    "test = testing2[['x','y']].values.tolist()\r\n",
    "predictions = clf.predict(test)\r\n",
    "true_values = testing2[['class_label']].values.tolist()\r\n",
    "\r\n",
    "correct_count = 0\r\n",
    "for i in range(len(predictions)):\r\n",
    "    if predictions[i] == true_values[i][0]:\r\n",
    "        correct_count += 1\r\n",
    "\r\n",
    "accuracy =  ( correct_count / len(predictions) * 100 )\r\n",
    "print(\"The accuracy of SVM on Dataset 2 is: \" + str(accuracy) + \"%\")"
   ]
  }
 ],
 "metadata": {
  "interpreter": {
   "hash": "e649b8cc97eb3d72cef3d66e65a7c5fbdb9b0888d0f21b7b8f500d8005b06ace"
  },
  "kernelspec": {
   "display_name": "Python 3.9.5 64-bit",
   "name": "python3"
  },
  "language_info": {
   "codemirror_mode": {
    "name": "ipython",
    "version": 3
   },
   "file_extension": ".py",
   "mimetype": "text/x-python",
   "name": "python",
   "nbconvert_exporter": "python",
   "pygments_lexer": "ipython3",
   "version": "3.9.5"
  },
  "orig_nbformat": 4
 },
 "nbformat": 4,
 "nbformat_minor": 2
}